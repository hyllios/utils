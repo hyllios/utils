{
 "cells": [
  {
   "cell_type": "code",
   "execution_count": null,
   "id": "615cc66f-73a9-44aa-80f1-b5f8e4c49204",
   "metadata": {},
   "outputs": [],
   "source": [
    "# Requires umap-learn, pymatgen, ase, numpy, pandas and plotly"
   ]
  },
  {
   "cell_type": "code",
   "execution_count": null,
   "id": "0157dcbf-1c90-4689-9a1a-e6fed5352300",
   "metadata": {},
   "outputs": [],
   "source": [
    "import umap\n",
    "import numpy as np\n",
    "import pandas as pd\n",
    "from ase.atom import Atom\n",
    "from pymatgen.core import Composition\n",
    "np.set_printoptions(precision=4, suppress=True)"
   ]
  },
  {
   "cell_type": "code",
   "execution_count": null,
   "id": "cae32a6a-7580-4c69-8e28-755130383c86",
   "metadata": {},
   "outputs": [],
   "source": [
    "# Prepare the elemental substitutions of \n",
    "# https://www.nature.com/articles/s41524-020-00481-6\n",
    "\n",
    "petiffor = np.loadtxt(\"substitution.dat\")[1:99,1:99]\n",
    "element_count = np.loadtxt(\"substitution.dat.element_count\")[1:99]\n",
    "petiffor += element_count*np.eye(petiffor.shape[0])\n",
    "petiffor = np.tril(petiffor, k=0)\n",
    "\n",
    "# normalise the rows to one so that the entries can be\n",
    "# interpreted as a measure of similarity.\n",
    "petiffor /= np.linalg.norm(petiffor, axis=1, keepdims=True)\n",
    "\n",
    "# To compensate for the incomplete information present in the ICSD (the \n",
    "# off-diagonal components are underestimated with respect to the diagonal)\n",
    "# modify the matrix elements by raising them by a power 1/2, followed by a \n",
    "# renormalisation of the lines.\n",
    "petiffor = petiffor**0.5\n",
    "petiffor /= np.linalg.norm(petiffor, axis=1, keepdims=True)"
   ]
  },
  {
   "cell_type": "code",
   "execution_count": null,
   "id": "b3a352a6-e91a-406f-8f2b-b7e03a097f36",
   "metadata": {},
   "outputs": [],
   "source": [
    "petiffor = pd.DataFrame(petiffor, columns=[Atom(i).symbol for i in range(1,99)], \\\n",
    "                       index=[Atom(i).symbol for i in range(1,99)])\n",
    "petiffor = petiffor.fillna(0)"
   ]
  },
  {
   "cell_type": "code",
   "execution_count": null,
   "id": "30814bfb-0433-45ef-950a-0fa838894f69",
   "metadata": {},
   "outputs": [],
   "source": [
    "# Function to calculate the compositional embeddings. Expects formulas in pymatgen.core.Composition\n",
    "# and the elemental embeddings as pandas.DataFrame\n",
    "def get_onehot_comp(composition, elemental_embeddings):\n",
    "  a = composition.fractional_composition.get_el_amt_dict()\n",
    "  comp_finger =  np.array([a.get(Atom(i).symbol, 0) for i in range(1,99)])\n",
    "  comp_finger = comp_finger @ elemental_embeddings.values\n",
    "  return comp_finger"
   ]
  },
  {
   "cell_type": "markdown",
   "id": "bffd8e63-faef-4811-8dfa-518c06bcc6d0",
   "metadata": {},
   "source": [
    "# Example for the Perovskites in Fig. 3"
   ]
  },
  {
   "cell_type": "code",
   "execution_count": null,
   "id": "b27ee80b-6bff-4e76-8123-768bf9b0a069",
   "metadata": {},
   "outputs": [],
   "source": [
    "# Load dataset (124k entries); Taken from the Alexandria DB (https://alexandria.icams.rub.de)\n",
    "perovskites = pd.read_csv(\"perovskites.csv\")\n",
    "\n",
    "# Calculate embeddings for each composition (takes ~15s in a Macbook Pro m1)\n",
    "perovskites[\"composition\"] = perovskites.formula_pretty.apply(Composition)\n",
    "perovskites[\"formula_embedding\"] = perovskites.composition.apply(lambda x: get_onehot_comp(x, petiffor))"
   ]
  },
  {
   "cell_type": "code",
   "execution_count": null,
   "id": "0417fd21-28d4-435b-bd88-cde8c442cc6a",
   "metadata": {},
   "outputs": [],
   "source": [
    "# Perform dimensionality reduction using UMAP (takes ~40s in a Macbook Pro m1)\n",
    "embeddings = perovskites.formula_embedding.values.tolist()\n",
    "\n",
    "n_components = 2\n",
    "reducer = umap.UMAP(random_state=124, n_components=n_components)\n",
    "\n",
    "embeddings = reducer.fit_transform(embeddings)\n",
    "data = pd.concat([perovskites[[\"mat_id\", \"formula_pretty\", \"bandgap\", \"e_above_hull\", \"is_magnetic\"]], \\\n",
    "                  pd.DataFrame(embeddings, columns=[f\"umap{i}\" for i in range(n_components)])], axis=1)"
   ]
  },
  {
   "cell_type": "code",
   "execution_count": null,
   "id": "e6d88d71-d7a8-4e0c-a7ba-3d4fb109f119",
   "metadata": {},
   "outputs": [],
   "source": [
    "# For visualization purposes (color scale), cap ehull to 0.5 eV\n",
    "data[\"e_above_hull\"] = data.e_above_hull.apply(lambda x: np.min([x, 0.5]))"
   ]
  },
  {
   "cell_type": "code",
   "execution_count": null,
   "id": "afc0f352-4134-4dcd-b038-3dd9fd49fd65",
   "metadata": {},
   "outputs": [],
   "source": [
    "import plotly.express as px\n",
    "\n",
    "fig = px.scatter(data, x=\"umap0\", y=\"umap1\", color=\"e_above_hull\", opacity=0.25, color_continuous_scale=\"RdYlGn_r\", \\\n",
    "                 custom_data=['mat_id', 'formula_pretty', \"bandgap\", \"is_magnetic\"])\n",
    "\n",
    "fig.update_traces(textposition='top center', hovertemplate= \\\n",
    "                  \"Mat_id: %{customdata[0]}<br>Formula: %{customdata[1]}<br>Gap: %{customdata[2]}<br>Magnetic: %{customdata[3]}\")\n",
    "\n",
    "fig.update_layout(height=800)\n",
    "\n",
    "fig.show()"
   ]
  }
 ],
 "metadata": {
  "kernelspec": {
   "display_name": "Python 3 (ipykernel)",
   "language": "python",
   "name": "python3"
  },
  "language_info": {
   "codemirror_mode": {
    "name": "ipython",
    "version": 3
   },
   "file_extension": ".py",
   "mimetype": "text/x-python",
   "name": "python",
   "nbconvert_exporter": "python",
   "pygments_lexer": "ipython3",
   "version": "3.9.9"
  },
  "toc-autonumbering": false,
  "toc-showcode": false,
  "toc-showmarkdowntxt": false,
  "toc-showtags": false
 },
 "nbformat": 4,
 "nbformat_minor": 5
}
